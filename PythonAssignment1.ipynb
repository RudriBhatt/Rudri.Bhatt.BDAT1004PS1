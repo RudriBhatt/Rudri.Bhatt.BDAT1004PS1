{
 "cells": [
  {
   "cell_type": "markdown",
   "id": "bd149351",
   "metadata": {},
   "source": [
    "# Question 7 Python\n",
    "File bloodtype1.txt records blood-types of patients (A, B, AB, O or OO) at a clinic.\n",
    "Write a function bldcount() that reads the file with name name and reports (i.e.,\n",
    "prints) how many patients there are in each bloodtype.\n",
    ">>> bldcount('bloodtype.txt')\n",
    "There are 10 patients of blood type A.\n",
    "There is one patient of blood type B.\n",
    "There are 10 patients of blood type AB.\n",
    "There are 12 patients of blood type O.\n",
    "There are no patients of blood type OO.\n"
   ]
  },
  {
   "cell_type": "code",
   "execution_count": 4,
   "id": "3107eb02",
   "metadata": {},
   "outputs": [
    {
     "name": "stdout",
     "output_type": "stream",
     "text": [
      "There are28patients of blood type A \n",
      "There are14patients of blood type B \n",
      "There are13patients of blood type AB \n",
      "There are 15patients of blood type O \n",
      "There are 0patients of blood type AB \n"
     ]
    }
   ],
   "source": [
    "def bldcount():\n",
    "  my_file = open(\"bloodtype.txt\", \"r\")\n",
    "  content = my_file.read()\n",
    "  #print(content) \n",
    "  AB_count = content.count('AB')\n",
    "  B_count = content.count('B')\n",
    "  A_count = content.count('A')\n",
    "  O_count = content.count('O')\n",
    "  OO_count= content.count('OO')\n",
    "  print('There are'+ str(A_count) +'patients of blood type A ' )\n",
    "  print('There are'+ str(B_count) +'patients of blood type B ' )  \n",
    "  print('There are'+ str(AB_count) +'patients of blood type AB ' )\n",
    "  print('There are '+ str(O_count) +'patients of blood type O ' )\n",
    "  print('There are '+ str(OO_count) +'patients of blood type AB ' )\n",
    "  \n",
    "\n",
    "\n",
    "bldcount()"
   ]
  }
 ],
 "metadata": {
  "kernelspec": {
   "display_name": "Python 3",
   "language": "python",
   "name": "python3"
  },
  "language_info": {
   "codemirror_mode": {
    "name": "ipython",
    "version": 3
   },
   "file_extension": ".py",
   "mimetype": "text/x-python",
   "name": "python",
   "nbconvert_exporter": "python",
   "pygments_lexer": "ipython3",
   "version": "3.8.8"
  }
 },
 "nbformat": 4,
 "nbformat_minor": 5
}
