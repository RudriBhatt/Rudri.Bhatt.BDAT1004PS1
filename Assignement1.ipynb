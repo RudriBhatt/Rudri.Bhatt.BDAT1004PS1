{
 "cells": [
  {
   "cell_type": "markdown",
   "id": "14084690",
   "metadata": {},
   "source": [
    "# Assignment 1\n",
    "    What data type is each of the following?\n"
   ]
  },
  {
   "cell_type": "markdown",
   "id": "b2aa3bc5",
   "metadata": {},
   "source": [
    "5 = integer\n",
    "5.0 =float\n",
    "5 > 1 = boolean\n",
    "'5' = char\n",
    "5 * 2 =integer\n",
    "'5' * 2 = integer\n",
    "'5' + '2' = integer\n",
    "5 / 2= integer\n",
    "5 = integer\n",
    "2 = integer\n",
    "{5, 2, 1} =array\n",
    "5== 3 boolean\n",
    "Pi (the number) float "
   ]
  },
  {
   "cell_type": "code",
   "execution_count": 1,
   "id": "faa77adb",
   "metadata": {},
   "outputs": [
    {
     "name": "stdout",
     "output_type": "stream",
     "text": [
      "5\n",
      "5\n",
      "True\n",
      "5\n",
      "10\n",
      "106\n",
      "103\n",
      "2\n",
      "1\n",
      "{ 5, 2, 1}\n",
      "False\n",
      "3.141592653589793\n"
     ]
    }
   ],
   "source": [
    "Console.WriteLine(5);\n",
    "            Console.WriteLine(5.0);\n",
    "            Console.WriteLine(5 > 1);\n",
    "            Console.WriteLine('5');\n",
    "            Console.WriteLine(5 * 2);\n",
    "            Console.WriteLine('5' * 2);\n",
    "            Console.WriteLine('5' + '2');\n",
    "            Console.WriteLine(5 / 2);\n",
    "            Console.WriteLine(5 % 2);\n",
    "            Console.WriteLine(\"{ 5, 2, 1}\");\n",
    "            Console.WriteLine(5 == 3);\n",
    "\n",
    "            Console.WriteLine(Math.PI);\n",
    "            "
   ]
  },
  {
   "cell_type": "markdown",
   "id": "e43bc646",
   "metadata": {},
   "source": [
    "<img src=\"files/question1.png\">"
   ]
  },
  {
   "cell_type": "markdown",
   "id": "fccc80df",
   "metadata": {},
   "source": [
    "# Question 2 C#\n",
    "Write (and evaluate) C# expressions that answer these questions:\n",
    "a. How many letters are there in 'Supercalifragilisticexpialidocious'?\n",
    "b. Does 'Supercalifragilisticexpialidocious' contain 'ice' as a substring? \n",
    " BDAT 1004 – Data Programming\n",
    "Page 2 of 6\n",
    "S2021\n",
    "BDAT 1004 Computer Studies\n",
    "c. Which of the following words is the longest:\n",
    "Supercalifragilisticexpialidocious, Honorificabilitudinitatibus, or\n",
    "Bababadalgharaghtakamminarronnkonn?\n",
    "d. Which composer comes first in the dictionary: 'Berlioz', 'Borodin', 'Brian',\n",
    "'Bartok', 'Bellini', 'Buxtehude', 'Bernstein'. Which one comes last?"
   ]
  },
  {
   "cell_type": "code",
   "execution_count": 1,
   "id": "3973ee00",
   "metadata": {},
   "outputs": [],
   "source": [
    "\n",
    "    class Program\n",
    "    {\n",
    "        static void Main(string[] args)\n",
    "        {\n",
    "            string sample1 = \"Supercalifragilisticexpialidocious\";\n",
    "            string ice = \"ice\";\n",
    "            Console.WriteLine($\"There are {sample1.Length} letters in a sample string {sample1}\");\n",
    "            Console.WriteLine($\"Is 'ice' availsble in {sample1} ? = {sample1.Contains(ice)}\");\n",
    "            string sample2 = \"Honorificabilitudinitatibus\";\n",
    "            string sample3 = \"Bababadalgharaghtakamminarronnkonn\";\n",
    "            string sample = \"Supercalifragilisticexpialidocious\";\n",
    "            if (sample.Length > sample2.Length && sample.Length > sample3.Length)\n",
    "            {\n",
    "                Console.WriteLine($\" {sample} is the longest word.\");\n",
    "            }\n",
    "            if (sample2.Length > sample.Length && sample2.Length > sample3.Length)\n",
    "            {\n",
    "                Console.WriteLine($\" {sample2} is the longest word.\");\n",
    "            }\n",
    "            if (sample3.Length > sample.Length && sample3.Length > sample2.Length)\n",
    "            {\n",
    "                Console.WriteLine($\" {sample3} is the longest word.\");\n",
    "            }\n",
    "            if( sample.Length == sample2.Length)\n",
    "            {\n",
    "                Console.WriteLine($\" {sample} and {sample2} are the longest word.\");\n",
    "            }\n",
    "            if (sample.Length == sample3.Length)\n",
    "            {\n",
    "                Console.WriteLine($\" {sample} and {sample3} are the longest word.\");\n",
    "            }\n",
    "            if (sample3.Length == sample2.Length)\n",
    "            {\n",
    "                Console.WriteLine($\" {sample3} and {sample2} are the longest word.\");\n",
    "            }\n",
    "\n",
    "            var disctionary = new List<string> { \"Berlioz\", \"Borodin\", \"Brian\",\"Bartok\", \"Bellini\", \"Buxtehude\", \"Bernstein\" };\n",
    "\n",
    "            disctionary.Sort();\n",
    "            Console.WriteLine(\"The sorted Disctionary is : \");\n",
    "            Console.WriteLine(string.Join(\",\\n\",disctionary));\n",
    "        }\n",
    "   }\n"
   ]
  },
  {
   "cell_type": "markdown",
   "id": "b6ff0712",
   "metadata": {},
   "source": [
    "Output:\n",
    "There are 34 letters in a sample string Supercalifragilisticexpialidocious\n",
    "Is 'ice' availsble in Supercalifragilisticexpialidocious ? = True\n",
    "Supercalifragilisticexpialidocious and Bababadalgharaghtakamminarronnkonn are the longest word.\n",
    "The sorted Disctionary is :\n",
    "Bartok,\n",
    "Bellini,\n",
    "Berlioz,\n",
    "Bernstein,\n",
    "Borodin,\n",
    "Brian,\n",
    "Buxtehude\n",
    "<img src=\"files/question2.png\">"
   ]
  },
  {
   "cell_type": "markdown",
   "id": "0863b01f",
   "metadata": {},
   "source": [
    "# Question 3 C#\n",
    "Implement function triangleArea(a,b,c) that takes as input the lengths of the 3\n",
    "sides of a triangle and returns the area of the triangle. By Heron's formula, the area\n",
    "of a triangle with side lengths a, b, and c is\n",
    "s(s - a)(s -b)(s -c)\n",
    ", where\n",
    "s = (a+b+c)/2.\n",
    ">>> triangleArea(2,2,2)\n",
    "1.7320508075688772"
   ]
  },
  {
   "cell_type": "code",
   "execution_count": 2,
   "id": "b4d28f34",
   "metadata": {},
   "outputs": [
    {
     "ename": "Unhandled Exception",
     "evalue": "(4,1): error CS7021: Cannot declare namespace in script code",
     "output_type": "error",
     "traceback": [
      "(4,1): error CS7021: Cannot declare namespace in script code"
     ]
    }
   ],
   "source": [
    "using System;\n",
    "using System.Collections.Generic;\n",
    "\n",
    "namespace DataProgrammingAssignment1\n",
    "{\n",
    "    class Program\n",
    "    {\n",
    "        static void Main(string[] args)\n",
    "        {\n",
    "            Console.WriteLine(\"Enter Side 1 of Triangle : \");\n",
    "            int s1 = Int16.Parse((Console.ReadLine()));\n",
    "\n",
    "            Console.WriteLine(\"Enter side 2 of Triangle : \");\n",
    "            int s2 = Int16.Parse((Console.ReadLine()));\n",
    "\n",
    "            Console.WriteLine(\"Enter base of Triangle : \");\n",
    "            int b = Int16.Parse((Console.ReadLine()));\n",
    "\n",
    "            int s = (s1 + s2 + b) / 2;\n",
    "\n",
    "            double area = Math.Sqrt(s * (s - s1) * (s - s2) * (s - b));\n",
    "            Console.WriteLine($\"The area of Triagle with Parameters side1 {s1} , side2 {s2}, base {b} = {area}\");\n",
    "\n",
    "            \n",
    "        }\n",
    "    }\n",
    "}"
   ]
  },
  {
   "cell_type": "markdown",
   "id": "8a6e29c1",
   "metadata": {
    "scrolled": true
   },
   "source": [
    "Output:\n",
    "Enter Side 1 of Triangle :\n",
    "45\n",
    "Enter side 2 of Triangle :\n",
    "50\n",
    "Enter base of Triangle :\n",
    "65\n",
    "The area of Triagle with Parameters side1 45 , side2 50, base 65 = 1122.4972160321825\n",
    "\n",
    "<img src=\"files/question3.png\">"
   ]
  },
  {
   "cell_type": "markdown",
   "id": "741daf1c",
   "metadata": {},
   "source": [
    "# Question 4 C#\n",
    "Write a program in C# Sharp to separate odd and even integers in separate arrays.\n",
    "Go to the editor\n",
    "Test Data :\n",
    "Input the number of elements to be stored in the array :5\n",
    "Input 5 elements in the array :\n",
    "element - 0 : 25\n",
    "element - 1 : 47\n",
    "element - 2 : 42\n",
    "element - 3 : 56\n",
    "element - 4 : 32\n",
    "Expected Output:\n",
    "The Even elements are:\n",
    "42 56 32\n",
    "The Odd elements are :\n",
    "25 47"
   ]
  },
  {
   "cell_type": "code",
   "execution_count": 4,
   "id": "61dbc68d",
   "metadata": {},
   "outputs": [
    {
     "ename": "Unhandled Exception",
     "evalue": "(4,1): error CS7021: Cannot declare namespace in script code",
     "output_type": "error",
     "traceback": [
      "(4,1): error CS7021: Cannot declare namespace in script code"
     ]
    }
   ],
   "source": [
    "using System;\n",
    "using System.Collections.Generic;\n",
    "\n",
    "namespace DataProgrammingAssignment1\n",
    "{\n",
    "    class Program\n",
    "    {\n",
    "        static void Main(string[] args)\n",
    "        {\n",
    "            Console.WriteLine(\"Enter the 10 numbers :\");\n",
    "            int[] a = new int[10];\n",
    "            for(int i=0; i<10; i++)\n",
    "            {\n",
    "                Console.WriteLine($\"Enter value {i+1} = \");\n",
    "                a[i] = Int32.Parse(Console.ReadLine());\n",
    "            }\n",
    "            int[] odd = new int[10];\n",
    "            int[] even = new int[10];\n",
    "            int k=0, j=0; // variable for indexing two other arrays odd and even\n",
    "            \n",
    "            for(int i=0; i < 10; i++)\n",
    "            {\n",
    "                //Check wether a number is odd or even\n",
    "                //if even then store in even[] else store in odd[]\n",
    "                if(a[i]%2 == 0)\n",
    "                {\n",
    "                    even[k] = a[i];\n",
    "                    k++;\n",
    "                }\n",
    "                else\n",
    "                {\n",
    "                    odd[j] = a[i];\n",
    "                    j++;\n",
    "                }\n",
    "            }\n",
    "\n",
    "            Console.WriteLine(\"Even numbers :\");\n",
    "            for (int i = 0; i < even.Length; i++)\n",
    "            {\n",
    "                Console.WriteLine($\"{i+1}. {even[i]}\");\n",
    "            }\n",
    "            Console.WriteLine(\"Odd numbers :\");\n",
    "            for (int i = 0; i < odd.Length; i++)\n",
    "            {\n",
    "                Console.WriteLine($\"{i+1}. {odd[i]}\");\n",
    "            }\n",
    "        }\n",
    "    }\n",
    "}\n"
   ]
  },
  {
   "cell_type": "markdown",
   "id": "d5a1a09a",
   "metadata": {},
   "source": [
    "Output:\n",
    "Enter the 10 numbers :\n",
    "Enter value 1 =\n",
    "55\n",
    "Enter value 2 =\n",
    "63\n",
    "Enter value 3 =\n",
    "26\n",
    "Enter value 4 =\n",
    "95\n",
    "Enter value 5 =\n",
    "48\n",
    "Enter value 6 =\n",
    "82\n",
    "Enter value 7 =\n",
    "44\n",
    "Enter value 8 =\n",
    "46\n",
    "Enter value 9 =\n",
    "32\n",
    "Enter value 10 =\n",
    "59\n",
    "Even numbers :\n",
    "1. 26\n",
    "2. 48\n",
    "3. 82\n",
    "4. 44\n",
    "5. 46\n",
    "6. 32\n",
    "7. 0\n",
    "8. 0\n",
    "9. 0\n",
    "10. 0\n",
    "Odd numbers :\n",
    "1. 55\n",
    "2. 63\n",
    "3. 95\n",
    "4. 59\n",
    "5. 0\n",
    "6. 0\n",
    "7. 0\n",
    "8. 0\n",
    "9. 0\n",
    "10. 0\n",
    "<img src=\"files/OddEven array.png\">"
   ]
  },
  {
   "cell_type": "markdown",
   "id": "532c07c3",
   "metadata": {},
   "source": [
    "# Question 5 C#\n",
    "Write a function inside(x,y,x1,y1,x2,y2) that returns True or False\n",
    "depending on whether the point (x,y) lies in the rectangle with lower left\n",
    "corner (x1,y1) and upper right corner (x2,y2).\n",
    ">>> inside(1,1,0,0,2,3)\n",
    "True\n",
    ">>> inside(-1,-1,0,0,2,3)\n",
    "False\n",
    "b. Use function inside() from part a. to write an expression that tests whether\n",
    "the point (1,1) lies in both of the following rectangles: one with lower left\n",
    "corner (0.3, 0.5) and upper right corner (1.1, 0.7) and the other with lower\n",
    "left corner (0.5, 0.2) and upper right corner (1.1, 2). "
   ]
  },
  {
   "cell_type": "code",
   "execution_count": 6,
   "id": "9e223e70",
   "metadata": {},
   "outputs": [
    {
     "ename": "Unhandled Exception",
     "evalue": "(4,1): error CS7021: Cannot declare namespace in script code",
     "output_type": "error",
     "traceback": [
      "(4,1): error CS7021: Cannot declare namespace in script code"
     ]
    }
   ],
   "source": [
    "using System;\n",
    "using System.Collections.Generic;\n",
    "\n",
    "namespace DataProgrammingAssignment1\n",
    "{\n",
    "    class Program\n",
    "    {\n",
    "        //function which calculates area\n",
    "        static float area(float x1, float y1, float x2, float y2, float x3, float y3)\n",
    "        {\n",
    "            return (float)Math.Abs((x1 * (y2 - y3) +\n",
    "                                    x2 * (y3 - y1) +\n",
    "                                    x3 * (y1 - y2)) / 2.0);\n",
    "        }\n",
    "        static bool Inside(float x1, float y1, float x2, float y2, float x3, float y3, float x4, float y4, float x, float y)\n",
    "        {\n",
    "\n",
    "            // Calculate area of rectangle ABCD\n",
    "            float A = area(x1, y1, x2, y2, x3, y3) +\n",
    "                      area(x1, y1, x4, y4, x3, y3);\n",
    "\n",
    "            // Calculate area of triangle PAB\n",
    "            float A1 = area(x, y, x1, y1, x2, y2);\n",
    "\n",
    "            // Calculate area of triangle PBC\n",
    "            float A2 = area(x, y, x2, y2, x3, y3);\n",
    "\n",
    "            // Calculate area of triangle PCD\n",
    "            float A3 = area(x, y, x3, y3, x4, y4);\n",
    "\n",
    "            // Calculate area of triangle PAD\n",
    "            float A4 = area(x, y, x1, y1, x4, y4);\n",
    "\n",
    "            // Check if sum of A1, A2, A3 and A4is same as A\n",
    "            if (A == A1 + A2 + A3 + A4)\n",
    "            {\n",
    "                return true;\n",
    "            }\n",
    "            return false;\n",
    "        }\n",
    "        static void Main(string[] args)\n",
    "        {\n",
    "            bool result = Inside(1.1f, 0.7f, 1.1f, 2f, 0.5f, 0.2f, 0.3f, 0.5f, 1f, 1f);\n",
    "            Console.WriteLine($\"Is Point  (1,1) in rectangle ABCD  (1.1, 0.7), (1.1, 2) ,(0.5, 0.2), (0.3, 0.5)? {result}\");\n",
    "        }\n",
    "    }\n",
    "}\n"
   ]
  },
  {
   "cell_type": "markdown",
   "id": "a30bb1ea",
   "metadata": {},
   "source": [
    "Output:\n",
    "Is Point  (1,1) in rectangle ABCD  (1.1, 0.7), (1.1, 2) ,(0.5, 0.2), (0.3, 0.5)? False\n",
    "<img src=\"files/Inside.png\">"
   ]
  },
  {
   "cell_type": "markdown",
   "id": "05f08e40",
   "metadata": {},
   "source": [
    "# Question 6 Python\n",
    "You can turn a word into pig-Latin using the following two rules (simplified):\n",
    "• If the word starts with a consonant, move that letter to the end and append\n",
    "'ay'. For example, 'happy' becomes 'appyhay' and 'pencil' becomes 'encilpay'.\n",
    "• If the word starts with a vowel, simply append 'way' to the end of the word.\n",
    "For example, 'enter' becomes 'enterway' and 'other' becomes 'otherway' . For\n",
    "our purposes, there are 5 vowels: a, e, i, o, u (so we count y as a consonant).\n",
    "Write a function pig() that takes a word (i.e., a string) as input and returns its pigLatin form. Your function should still work if the input word contains upper case\n",
    "characters. Your output should always be lower case however.\n",
    ">>> pig('happy')\n",
    "'appyhay'\n",
    ">>> pig('Enter')\n",
    "'enterway' "
   ]
  },
  {
   "cell_type": "code",
   "execution_count": 2,
   "id": "61cabf77",
   "metadata": {},
   "outputs": [
    {
     "name": "stdout",
     "output_type": "stream",
     "text": [
      "Enter any name : HAPPY\n",
      "appyhay\n"
     ]
    }
   ],
   "source": [
    "str=input(\"Enter any name : \")\n",
    "if(str[0] == 'a' or str[0] == 'e' or str[0] == 'i' or str[0] == 'o' or str[0] == 'u'):\n",
    "    print(str.lower()+'way')\n",
    "else:\n",
    "    ch=str[0]\n",
    "    str = ''.join(str.split(ch, 1))\n",
    "    print(str.lower()+ch.lower()+'ay')\n",
    "    "
   ]
  },
  {
   "cell_type": "markdown",
   "id": "ab599be8",
   "metadata": {},
   "source": [
    "# Question 7 Python\n",
    "File bloodtype1.txt records blood-types of patients (A, B, AB, O or OO) at a clinic.\n",
    "Write a function bldcount() that reads the file with name name and reports (i.e.,\n",
    "prints) how many patients there are in each bloodtype.\n",
    ">>> bldcount('bloodtype.txt')\n",
    "There are 10 patients of blood type A.\n",
    "There is one patient of blood type B.\n",
    "There are 10 patients of blood type AB.\n",
    "There are 12 patients of blood type O.\n",
    "There are no patients of blood type OO."
   ]
  },
  {
   "cell_type": "code",
   "execution_count": 18,
   "id": "606e6830",
   "metadata": {
    "scrolled": true
   },
   "outputs": [
    {
     "ename": "TypeError",
     "evalue": "'str' object is not callable",
     "output_type": "error",
     "traceback": [
      "\u001b[1;31m---------------------------------------------------------------------------\u001b[0m",
      "\u001b[1;31mTypeError\u001b[0m                                 Traceback (most recent call last)",
      "\u001b[1;32m<ipython-input-18-f607792c9af6>\u001b[0m in \u001b[0;36m<module>\u001b[1;34m\u001b[0m\n\u001b[0;32m     16\u001b[0m \u001b[1;33m\u001b[0m\u001b[0m\n\u001b[0;32m     17\u001b[0m \u001b[1;33m\u001b[0m\u001b[0m\n\u001b[1;32m---> 18\u001b[1;33m \u001b[0mbldcount\u001b[0m\u001b[1;33m(\u001b[0m\u001b[1;33m)\u001b[0m\u001b[1;33m\u001b[0m\u001b[1;33m\u001b[0m\u001b[0m\n\u001b[0m",
      "\u001b[1;32m<ipython-input-18-f607792c9af6>\u001b[0m in \u001b[0;36mbldcount\u001b[1;34m()\u001b[0m\n\u001b[0;32m      8\u001b[0m   \u001b[0mO_count\u001b[0m \u001b[1;33m=\u001b[0m \u001b[0mcontent\u001b[0m\u001b[1;33m.\u001b[0m\u001b[0mcount\u001b[0m\u001b[1;33m(\u001b[0m\u001b[1;34m'O'\u001b[0m\u001b[1;33m)\u001b[0m\u001b[1;33m\u001b[0m\u001b[1;33m\u001b[0m\u001b[0m\n\u001b[0;32m      9\u001b[0m   \u001b[0mOO_count\u001b[0m\u001b[1;33m=\u001b[0m \u001b[0mcontent\u001b[0m\u001b[1;33m.\u001b[0m\u001b[0mcount\u001b[0m\u001b[1;33m(\u001b[0m\u001b[1;34m'OO'\u001b[0m\u001b[1;33m)\u001b[0m\u001b[1;33m\u001b[0m\u001b[1;33m\u001b[0m\u001b[0m\n\u001b[1;32m---> 10\u001b[1;33m   \u001b[0mprint\u001b[0m\u001b[1;33m(\u001b[0m\u001b[1;34m'There are'\u001b[0m\u001b[1;33m+\u001b[0m \u001b[0mstr\u001b[0m\u001b[1;33m(\u001b[0m\u001b[0mA_count\u001b[0m\u001b[1;33m)\u001b[0m \u001b[1;33m+\u001b[0m\u001b[1;34m'patients of blood type A '\u001b[0m \u001b[1;33m)\u001b[0m\u001b[1;33m\u001b[0m\u001b[1;33m\u001b[0m\u001b[0m\n\u001b[0m\u001b[0;32m     11\u001b[0m   \u001b[0mprint\u001b[0m\u001b[1;33m(\u001b[0m\u001b[1;34m'There are'\u001b[0m\u001b[1;33m+\u001b[0m \u001b[0mstr\u001b[0m\u001b[1;33m(\u001b[0m\u001b[0mB_count\u001b[0m\u001b[1;33m)\u001b[0m \u001b[1;33m+\u001b[0m\u001b[1;34m'patients of blood type B '\u001b[0m \u001b[1;33m)\u001b[0m\u001b[1;33m\u001b[0m\u001b[1;33m\u001b[0m\u001b[0m\n\u001b[0;32m     12\u001b[0m   \u001b[0mprint\u001b[0m\u001b[1;33m(\u001b[0m\u001b[1;34m'There are'\u001b[0m\u001b[1;33m+\u001b[0m \u001b[0mstr\u001b[0m\u001b[1;33m(\u001b[0m\u001b[0mAB_count\u001b[0m\u001b[1;33m)\u001b[0m \u001b[1;33m+\u001b[0m\u001b[1;34m'patients of blood type AB '\u001b[0m \u001b[1;33m)\u001b[0m\u001b[1;33m\u001b[0m\u001b[1;33m\u001b[0m\u001b[0m\n",
      "\u001b[1;31mTypeError\u001b[0m: 'str' object is not callable"
     ]
    }
   ],
   "source": [
    "def bldcount():\n",
    "  my_file = open(\"bloodtype.txt\", \"r\")\n",
    "  content = my_file.read()\n",
    "  #print(content) \n",
    "  AB_count = content.count('AB')\n",
    "  B_count = content.count('B')\n",
    "  A_count = content.count('A')\n",
    "  O_count = content.count('O')\n",
    "  OO_count= content.count('OO')\n",
    "  print('There are'+ str(A_count) +'patients of blood type A ' )\n",
    "  print('There are'+ str(B_count) +'patients of blood type B ' )  \n",
    "  print('There are'+ str(AB_count) +'patients of blood type AB ' )\n",
    "  print('There are '+ str(O_count) +'patients of blood type O ' )\n",
    "  print('There are '+ str(OO_count) +'patients of blood type AB ' )\n",
    "  \n",
    "\n",
    "\n",
    "bldcount()"
   ]
  },
  {
   "cell_type": "markdown",
   "id": "d3ac42b6",
   "metadata": {},
   "source": [
    "# Question 8 Python\n",
    "Write a function curconv() that takes as input:\n",
    "1. a currency represented using a string (e.g., 'JPY' for the Japanese Yen or\n",
    "'EUR' for the Euro)\n",
    "2. an amount\n",
    "and then converts and returns the amount in US dollars.\n",
    ">>> curconv('EUR', 100)\n",
    "122.96544\n",
    ">>> curconv('JPY', 100)\n",
    "1.241401"
   ]
  },
  {
   "cell_type": "code",
   "execution_count": 19,
   "id": "d4b5af9a",
   "metadata": {},
   "outputs": [
    {
     "name": "stdout",
     "output_type": "stream",
     "text": [
      "Enter the country code: AUD\n",
      "Enter the amount to convert in USD :300\n",
      "310.35471\n"
     ]
    }
   ],
   "source": [
    "def curconv(country,amount):\n",
    "    file = open(\"currencies.txt\", \"r\")\n",
    "    for num,line in enumerate(file,1):\n",
    "        if country in line:\n",
    "            money=list(line.split())\n",
    "            print(float(amount)*float(money[1]))\n",
    "\n",
    "\n",
    "country=input(\"Enter the country code: \")\n",
    "amount=input(\"Enter the amount to convert in USD :\")\n",
    "curconv(country,amount)"
   ]
  },
  {
   "cell_type": "markdown",
   "id": "84069739",
   "metadata": {},
   "source": [
    "# Question 9 Python\n",
    "Each of the following will cause an exception (an error). Identify what type of\n",
    "exception each will cause.\n",
    "\n",
    "Trying to add incompatible variables, as in\n",
    "adding 6 + ‘a’\n",
    "\n",
    "print(6 + 'a')\n",
    "unsupported operand type(s) for +: 'int' and 'str'\n",
    "\n",
    "Referring to the 12th item of a list that has only 10 items\n",
    "IndexError: list index out of range\n",
    "\n",
    "Using a value that is out of range for a function’s input, such as calling math.sqrt(-1.0)\n",
    "ValueError: math domain error\n",
    "\n",
    "Using an undeclared variable, such as print(x) when x has not been defined\n",
    "NameError: name 'x' is not defined\n",
    "\n",
    "Trying to open a file that does not exist, such as mistyping the file name or looking in the wrong directory\n",
    "FileNotFoundError: [Errno 2] No such file or directory: 'currency.txt'"
   ]
  },
  {
   "cell_type": "code",
   "execution_count": 20,
   "id": "b0e98b48",
   "metadata": {
    "scrolled": true
   },
   "outputs": [
    {
     "ename": "TypeError",
     "evalue": "unsupported operand type(s) for +: 'int' and 'str'",
     "output_type": "error",
     "traceback": [
      "\u001b[1;31m---------------------------------------------------------------------------\u001b[0m",
      "\u001b[1;31mTypeError\u001b[0m                                 Traceback (most recent call last)",
      "\u001b[1;32m<ipython-input-20-9028d3c07e18>\u001b[0m in \u001b[0;36m<module>\u001b[1;34m\u001b[0m\n\u001b[1;32m----> 1\u001b[1;33m \u001b[0mprint\u001b[0m\u001b[1;33m(\u001b[0m\u001b[1;36m6\u001b[0m \u001b[1;33m+\u001b[0m \u001b[1;34m'a'\u001b[0m\u001b[1;33m)\u001b[0m\u001b[1;33m\u001b[0m\u001b[1;33m\u001b[0m\u001b[0m\n\u001b[0m",
      "\u001b[1;31mTypeError\u001b[0m: unsupported operand type(s) for +: 'int' and 'str'"
     ]
    }
   ],
   "source": [
    "print(6 + 'a')"
   ]
  },
  {
   "cell_type": "code",
   "execution_count": 21,
   "id": "db0b1081",
   "metadata": {},
   "outputs": [
    {
     "name": "stdout",
     "output_type": "stream",
     "text": [
      "MXN\n"
     ]
    },
    {
     "ename": "IndexError",
     "evalue": "list index out of range",
     "output_type": "error",
     "traceback": [
      "\u001b[1;31m---------------------------------------------------------------------------\u001b[0m",
      "\u001b[1;31mIndexError\u001b[0m                                Traceback (most recent call last)",
      "\u001b[1;32m<ipython-input-21-160379077bc5>\u001b[0m in \u001b[0;36m<module>\u001b[1;34m\u001b[0m\n\u001b[0;32m      1\u001b[0m \u001b[0mcars\u001b[0m \u001b[1;33m=\u001b[0m \u001b[1;33m[\u001b[0m\u001b[1;34m\"AUD\"\u001b[0m\u001b[1;33m,\u001b[0m \u001b[1;34m\"CHF\"\u001b[0m\u001b[1;33m,\u001b[0m \u001b[1;34m\"CNY\"\u001b[0m\u001b[1;33m,\u001b[0m\u001b[1;34m\"DKK\"\u001b[0m\u001b[1;33m,\u001b[0m\u001b[1;34m\"EUR\"\u001b[0m\u001b[1;33m,\u001b[0m\u001b[1;34m\"GBP\"\u001b[0m\u001b[1;33m,\u001b[0m\u001b[1;34m\"HKD\"\u001b[0m\u001b[1;33m,\u001b[0m\u001b[1;34m\"INR\"\u001b[0m\u001b[1;33m,\u001b[0m\u001b[1;34m\"JPY\"\u001b[0m\u001b[1;33m,\u001b[0m\u001b[1;34m\"MXN\"\u001b[0m\u001b[1;33m]\u001b[0m\u001b[1;33m\u001b[0m\u001b[1;33m\u001b[0m\u001b[0m\n\u001b[0;32m      2\u001b[0m \u001b[0mprint\u001b[0m\u001b[1;33m(\u001b[0m\u001b[0mcars\u001b[0m\u001b[1;33m[\u001b[0m\u001b[1;36m9\u001b[0m\u001b[1;33m]\u001b[0m\u001b[1;33m)\u001b[0m\u001b[1;33m\u001b[0m\u001b[1;33m\u001b[0m\u001b[0m\n\u001b[1;32m----> 3\u001b[1;33m \u001b[0mprint\u001b[0m\u001b[1;33m(\u001b[0m\u001b[0mcars\u001b[0m\u001b[1;33m[\u001b[0m\u001b[1;36m12\u001b[0m\u001b[1;33m]\u001b[0m\u001b[1;33m)\u001b[0m\u001b[1;33m\u001b[0m\u001b[1;33m\u001b[0m\u001b[0m\n\u001b[0m",
      "\u001b[1;31mIndexError\u001b[0m: list index out of range"
     ]
    }
   ],
   "source": [
    "cars = [\"AUD\", \"CHF\", \"CNY\",\"DKK\",\"EUR\",\"GBP\",\"HKD\",\"INR\",\"JPY\",\"MXN\"]\n",
    "print(cars[9])\n",
    "print(cars[12])"
   ]
  },
  {
   "cell_type": "code",
   "execution_count": 22,
   "id": "ee5e1e82",
   "metadata": {
    "scrolled": true
   },
   "outputs": [
    {
     "name": "stdout",
     "output_type": "stream",
     "text": [
      "1.7320508075688772\n"
     ]
    },
    {
     "ename": "ValueError",
     "evalue": "math domain error",
     "output_type": "error",
     "traceback": [
      "\u001b[1;31m---------------------------------------------------------------------------\u001b[0m",
      "\u001b[1;31mValueError\u001b[0m                                Traceback (most recent call last)",
      "\u001b[1;32m<ipython-input-22-2f69f13eca68>\u001b[0m in \u001b[0;36m<module>\u001b[1;34m\u001b[0m\n\u001b[0;32m      1\u001b[0m \u001b[1;32mimport\u001b[0m \u001b[0mmath\u001b[0m\u001b[1;33m\u001b[0m\u001b[1;33m\u001b[0m\u001b[0m\n\u001b[0;32m      2\u001b[0m \u001b[0mprint\u001b[0m\u001b[1;33m(\u001b[0m\u001b[0mmath\u001b[0m\u001b[1;33m.\u001b[0m\u001b[0msqrt\u001b[0m\u001b[1;33m(\u001b[0m\u001b[1;36m3\u001b[0m\u001b[1;33m)\u001b[0m\u001b[1;33m)\u001b[0m\u001b[1;33m\u001b[0m\u001b[1;33m\u001b[0m\u001b[0m\n\u001b[1;32m----> 3\u001b[1;33m \u001b[0mprint\u001b[0m\u001b[1;33m(\u001b[0m\u001b[0mmath\u001b[0m\u001b[1;33m.\u001b[0m\u001b[0msqrt\u001b[0m\u001b[1;33m(\u001b[0m\u001b[1;33m-\u001b[0m\u001b[1;36m1\u001b[0m\u001b[1;33m)\u001b[0m\u001b[1;33m)\u001b[0m\u001b[1;33m\u001b[0m\u001b[1;33m\u001b[0m\u001b[0m\n\u001b[0m",
      "\u001b[1;31mValueError\u001b[0m: math domain error"
     ]
    }
   ],
   "source": [
    "import math\n",
    "print(math.sqrt(3))\n",
    "print(math.sqrt(-1))"
   ]
  },
  {
   "cell_type": "code",
   "execution_count": 23,
   "id": "38b0196e",
   "metadata": {},
   "outputs": [
    {
     "ename": "NameError",
     "evalue": "name 'x' is not defined",
     "output_type": "error",
     "traceback": [
      "\u001b[1;31m---------------------------------------------------------------------------\u001b[0m",
      "\u001b[1;31mNameError\u001b[0m                                 Traceback (most recent call last)",
      "\u001b[1;32m<ipython-input-23-fc17d851ef81>\u001b[0m in \u001b[0;36m<module>\u001b[1;34m\u001b[0m\n\u001b[1;32m----> 1\u001b[1;33m \u001b[0mprint\u001b[0m\u001b[1;33m(\u001b[0m\u001b[0mx\u001b[0m\u001b[1;33m)\u001b[0m\u001b[1;33m\u001b[0m\u001b[1;33m\u001b[0m\u001b[0m\n\u001b[0m",
      "\u001b[1;31mNameError\u001b[0m: name 'x' is not defined"
     ]
    }
   ],
   "source": [
    "print(x)\n"
   ]
  },
  {
   "cell_type": "code",
   "execution_count": 24,
   "id": "7446c8f2",
   "metadata": {
    "scrolled": true
   },
   "outputs": [
    {
     "ename": "FileNotFoundError",
     "evalue": "[Errno 2] No such file or directory: 'currency.txt'",
     "output_type": "error",
     "traceback": [
      "\u001b[1;31m---------------------------------------------------------------------------\u001b[0m",
      "\u001b[1;31mFileNotFoundError\u001b[0m                         Traceback (most recent call last)",
      "\u001b[1;32m<ipython-input-24-5950144adda1>\u001b[0m in \u001b[0;36m<module>\u001b[1;34m\u001b[0m\n\u001b[1;32m----> 1\u001b[1;33m \u001b[0mfile\u001b[0m \u001b[1;33m=\u001b[0m \u001b[0mopen\u001b[0m\u001b[1;33m(\u001b[0m\u001b[1;34m\"currency.txt\"\u001b[0m\u001b[1;33m,\u001b[0m \u001b[1;34m\"r\"\u001b[0m\u001b[1;33m)\u001b[0m\u001b[1;33m\u001b[0m\u001b[1;33m\u001b[0m\u001b[0m\n\u001b[0m",
      "\u001b[1;31mFileNotFoundError\u001b[0m: [Errno 2] No such file or directory: 'currency.txt'"
     ]
    }
   ],
   "source": [
    "file = open(\"currency.txt\", \"r\")"
   ]
  },
  {
   "cell_type": "markdown",
   "id": "c3afa295",
   "metadata": {},
   "source": [
    "# Question 10 Python\n",
    "Encryption is the process of hiding the meaning of a text by substituting letters in the\n",
    "message with other letters, according to some system. If the process is successful, no\n",
    "one but the intended recipient can understand the encrypted message. Cryptanalysis\n",
    "refers to attempts to undo the encryption, even if some details of the encryption are\n",
    "unknown (for example, if an encrypted message has been intercepted). The first step\n",
    "of cryptanalysis is often to build up a table of letter frequencies in the encrypted text.\n",
    "Assume that the string letters is already defined as\n",
    "'abcdefghijklmnopqrstuvwxyz'. Write a function called frequencies()\n",
    "that takes a string as its only parameter, and returns a list of integers, showing the\n",
    "number of times each character appears in the text. Your function may ignore any\n",
    "characters that are not in letters.\n",
    ">>> frequencies('The quick red fox got bored and went home.')\n",
    "[1, 1, 1, 3, 5, 1, 1, 2, 1, 0, 1, 0, 1, 2, 4, 0, 1, 2, 0, 2,\n",
    "1, 0, 1, 1, 0, 0]\n",
    ">>> frequencies('apple')"
   ]
  },
  {
   "cell_type": "code",
   "execution_count": 31,
   "id": "c7b5036e",
   "metadata": {},
   "outputs": [
    {
     "name": "stdout",
     "output_type": "stream",
     "text": [
      "Enter any string rudri bhatt231\n",
      "rudri bhatt231\n",
      "2\n",
      "1\n",
      "1\n",
      "2\n",
      "1\n",
      "1\n",
      "1\n",
      "1\n",
      "2\n",
      "2\n"
     ]
    }
   ],
   "source": [
    "def frequencies(str):\n",
    "    print(str)\n",
    "    for char in str:\n",
    "        if char.isalpha():\n",
    "            print(str.count(char.lower()))\n",
    "            \n",
    "    \n",
    "    \n",
    "str=input(\"Enter any string \")\n",
    "frequencies(str)"
   ]
  },
  {
   "cell_type": "code",
   "execution_count": null,
   "id": "bd30524f",
   "metadata": {},
   "outputs": [],
   "source": []
  },
  {
   "cell_type": "code",
   "execution_count": null,
   "id": "bd1cac7e",
   "metadata": {},
   "outputs": [],
   "source": []
  }
 ],
 "metadata": {
  "kernelspec": {
   "display_name": "Python 3",
   "language": "python",
   "name": "python3"
  },
  "language_info": {
   "codemirror_mode": {
    "name": "ipython",
    "version": 3
   },
   "file_extension": ".py",
   "mimetype": "text/x-python",
   "name": "python",
   "nbconvert_exporter": "python",
   "pygments_lexer": "ipython3",
   "version": "3.8.8"
  }
 },
 "nbformat": 4,
 "nbformat_minor": 5
}
